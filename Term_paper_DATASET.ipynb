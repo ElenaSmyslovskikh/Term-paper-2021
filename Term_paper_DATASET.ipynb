{
  "nbformat": 4,
  "nbformat_minor": 0,
  "metadata": {
    "colab": {
      "name": "Term paper DATASET.ipynb",
      "provenance": [],
      "collapsed_sections": [
        "y93S6-dwKazW",
        "D9j67O5gNtSx"
      ],
      "toc_visible": true
    },
    "kernelspec": {
      "name": "python3",
      "display_name": "Python 3"
    },
    "language_info": {
      "name": "python"
    }
  },
  "cells": [
    {
      "cell_type": "code",
      "metadata": {
        "id": "ftYM6Yp_k5eP",
        "colab": {
          "base_uri": "https://localhost:8080/"
        },
        "outputId": "60b29ef5-669f-482c-85ab-9603fba5341c"
      },
      "source": [
        "import numpy as np\n",
        "import pandas as pd\n",
        "\n",
        "import warnings\n",
        "warnings.filterwarnings('ignore')\n",
        "\n",
        "from google.colab import drive\n",
        "drive.mount('/content/drive')"
      ],
      "execution_count": 602,
      "outputs": [
        {
          "output_type": "stream",
          "text": [
            "Drive already mounted at /content/drive; to attempt to forcibly remount, call drive.mount(\"/content/drive\", force_remount=True).\n"
          ],
          "name": "stdout"
        }
      ]
    },
    {
      "cell_type": "markdown",
      "metadata": {
        "id": "awu0Xv5_Tyqo"
      },
      "source": [
        "## Предобработка"
      ]
    },
    {
      "cell_type": "code",
      "metadata": {
        "id": "IMyprhTgVAUt"
      },
      "source": [
        "df = pd.read_excel('/content/drive/MyDrive/Term-paper/data_by_district_raw.xlsx')\n",
        "dff = pd.read_excel('/content/drive/MyDrive/Term-paper/2019_districts_columns.xlsx')"
      ],
      "execution_count": 603,
      "outputs": []
    },
    {
      "cell_type": "code",
      "metadata": {
        "id": "2ZTblmELk6ch"
      },
      "source": [
        "df.rename(columns = {'Unnamed: 0' : 'District'}, inplace = True)\n",
        "df.rename(columns = {'Turnout_neighborhood' : 'Turnout_district'}, inplace = True)\n",
        "df.rename(columns = {'UG_neighborhood' : 'UG_district'}, inplace = True)\n",
        "\n",
        "dff['Party'][dff['Supported_by'] == 'United Russia, A Just Russia, City Hall'] = 'United Russia'\n",
        "dff['Party'][dff['Supported_by'] == 'United Russia'] = 'United Russia'\n",
        "dff['Party'][dff['Supported_by'] == '«United Russia»'] = 'United Russia'\n",
        "\n",
        "party_dict = dict(zip(dff.Candidate, dff.Party))"
      ],
      "execution_count": 604,
      "outputs": []
    },
    {
      "cell_type": "code",
      "metadata": {
        "id": "o0N3x3zkn9YZ"
      },
      "source": [
        "candidates = df[['District', 'candidate_1', 'candidate_2', 'candidate_3', 'candidate_4', 'candidate_5', 'candidate_6']]\n",
        "\n",
        "district_winners={}\n",
        "district_winners_shares={}\n",
        "\n",
        "for i in range(len(candidates['candidate_1'])):\n",
        "    if type(candidates['candidate_1'][i]) == str:\n",
        "        cand1 = candidates['candidate_1'][i]\n",
        "        cand2 = candidates['candidate_2'][i]\n",
        "        cand3 = candidates['candidate_3'][i]\n",
        "        cand4 = candidates['candidate_4'][i]\n",
        "        cand5 = candidates['candidate_5'][i]\n",
        "        cand6 = candidates['candidate_6'][i]\n",
        "    else:\n",
        "        vote1 = candidates['candidate_1'][i]\n",
        "        vote2 = candidates['candidate_2'][i]\n",
        "        vote3 = candidates['candidate_3'][i]\n",
        "        vote4 = candidates['candidate_4'][i]\n",
        "        vote5 = candidates['candidate_5'][i]\n",
        "        vote6 = candidates['candidate_6'][i]\n",
        "        \n",
        "        \n",
        "        votesum = np.nansum(np.array([vote1, vote2, vote3, vote4, vote5, vote6]))\n",
        "\n",
        "        maxvote = max(vote1, vote2, vote3, vote4, vote5, vote6)\n",
        "\n",
        "        share = maxvote/votesum\n",
        "        district_winners_shares[candidates['District'][i]] = share\n",
        "\n",
        "        if maxvote==vote1:\n",
        "            district_winners[candidates['District'][i]] = cand1\n",
        "        elif maxvote==vote2:\n",
        "            district_winners[candidates['District'][i]] = cand2\n",
        "        elif maxvote==vote3:\n",
        "            district_winners[candidates['District'][i]] = cand3\n",
        "        elif maxvote==vote4:\n",
        "            district_winners[candidates['District'][i]] = cand4\n",
        "        elif maxvote==vote5:\n",
        "            district_winners[candidates['District'][i]] = cand5\n",
        "        elif maxvote==vote6:\n",
        "            district_winners[candidates['District'][i]] = cand6\n",
        "\n",
        "del district_winners['Сумма']"
      ],
      "execution_count": 605,
      "outputs": []
    },
    {
      "cell_type": "code",
      "metadata": {
        "id": "etUnpSYgXf9G"
      },
      "source": [
        "df['district_winner'] = df['District'].map(district_winners)\n",
        "df['Win_party_district'] = df['district_winner'].map(party_dict)\n",
        "df['district_winner_share'] = df['District'].map(district_winners_shares)"
      ],
      "execution_count": 606,
      "outputs": []
    },
    {
      "cell_type": "code",
      "metadata": {
        "id": "hB1ERfNiqQ1d"
      },
      "source": [
        "df = df.drop(df.columns[22:33], axis = 1)"
      ],
      "execution_count": 607,
      "outputs": []
    },
    {
      "cell_type": "code",
      "metadata": {
        "id": "7WqSAJkCccGk"
      },
      "source": [
        "okrug_election_comission_dict = dict(zip(dff.Candidate, dff.okrug_election_comission))\n",
        "UG_dict = dict(zip(dff.Candidate, dff.UG))\n",
        "\n",
        "df['district_oec'] = df['district_winner'].map(okrug_election_comission_dict)\n",
        "df['district_UG'] = df['district_winner'].map(UG_dict)"
      ],
      "execution_count": 608,
      "outputs": []
    },
    {
      "cell_type": "code",
      "metadata": {
        "id": "Erdl_Vq44HEn"
      },
      "source": [
        "df.drop(df.index[df['District'] == 'Сумма'], inplace = True)"
      ],
      "execution_count": 609,
      "outputs": []
    },
    {
      "cell_type": "markdown",
      "metadata": {
        "id": "gAhAYlVfUBB7"
      },
      "source": [
        "## Данные \"Механика Москвы\""
      ]
    },
    {
      "cell_type": "code",
      "metadata": {
        "id": "uLcQPIm1g7MR"
      },
      "source": [
        "blag = pd.read_excel('/content/drive/MyDrive/Term-paper/Mx2_blagoustroistvo.xlsx').T\n",
        "safety = pd.read_excel('/content/drive/MyDrive/Term-paper/Mx2_bezopasnost.xlsx').T\n",
        "culture = pd.read_excel('/content/drive/MyDrive/Term-paper/Mx2_kultura.xlsx').T\n",
        "education = pd.read_excel('/content/drive/MyDrive/Term-paper/Mx2_obrazovanie.xlsx').T\n",
        "\n",
        "MX_slovar = pd.read_excel('/content/drive/MyDrive/Term-paper/MX_slovar.xlsx')\n",
        "MX_dict = dict(zip(MX_slovar['name'], MX_slovar['tik']))"
      ],
      "execution_count": 610,
      "outputs": []
    },
    {
      "cell_type": "code",
      "metadata": {
        "id": "MHlZx7aUB-d9"
      },
      "source": [
        "def drop_rows(df):\n",
        "    district_names_MX_set = set(pd.read_excel('/content/drive/MyDrive/Term-paper/MX_slovar.xlsx')['name'])\n",
        "    df = df.reset_index()\n",
        "    for i in range(len(df)):\n",
        "        if df['index'][i] not in district_names_MX_set:\n",
        "            df = df.drop(i, axis=0)\n",
        "    return df\n",
        "\n",
        "safety = drop_rows(safety)"
      ],
      "execution_count": 611,
      "outputs": []
    },
    {
      "cell_type": "code",
      "metadata": {
        "id": "AKKX1Hgq85AY"
      },
      "source": [
        "safety.rename(columns = {0 : 'sfmeasures_privateguard',\n",
        "                         1 : 'sfmeasures_cameras',\n",
        "                         2 : 'sfmeasures_barrier',\n",
        "                         3 : 'sfmeasures_fence',\n",
        "                         4 : 'sfmeasures_patrol',\n",
        "                         5 : 'sfmeasures_concierge',\n",
        "                         6 : 'sfmeasures_none',\n",
        "                         7 : 'house_cameras',\n",
        "                         8 : 'house_irondoors',\n",
        "                         9 : 'house_doorlock',\n",
        "                         10 : 'house_barrier',\n",
        "                         11 : 'house_fence',\n",
        "                         12 : 'house_concierge',\n",
        "                         13 : 'house_none',\n",
        "                         14 : 'afraid_thieft',\n",
        "                         15 : 'afraid_burglary',\n",
        "                         16 : 'afraid_carjack',\n",
        "                         17 : 'afraid_mugging',\n",
        "                         18 : 'afraid_defaceproperty_public',\n",
        "                         19 : 'afraid_defaceproperty_private',\n",
        "                         20 : 'afraid_assault',\n",
        "                         21 : 'afraid_murder',\n",
        "                         22 : 'afraid_rape',\n",
        "                         23 : 'afraid_animals',\n",
        "                         24 : 'afraid_agression_drunk',\n",
        "                         25 : 'afraid_agression_young',\n",
        "                         26 : 'afraid_agression_migrant',\n",
        "                         27 : 'afraid_agression_police',\n",
        "                         28 : 'issafe_walk_night',\n",
        "                         29 : 'issafe_walk_day',\n",
        "                         30 : 'neighbors_nobody',\n",
        "                         31 : 'neighbors_know_face',\n",
        "                         32 : 'neighbors_know_name',\n",
        "                         33 : 'neighbors_talk',\n",
        "                         34 : 'neighbors_spendtime',\n",
        "                         35 : 'personal_unsafe_streets',\n",
        "                         36 : 'personal_migrants'}, inplace = True)\n",
        "\n",
        "safety['tik'] = safety['index'].map(MX_dict)"
      ],
      "execution_count": 612,
      "outputs": []
    },
    {
      "cell_type": "code",
      "metadata": {
        "id": "E0KVKHf4Mf-J"
      },
      "source": [
        "blag = drop_rows(blag)\n",
        "blag.rename(columns = {0 : 'blag_money',\n",
        "                         1 : 'blag_safetysystem',\n",
        "                         2 : 'blag_repair',\n",
        "                         3 : 'blag_cleanup',\n",
        "                         4 : 'blag_organise',\n",
        "                         5 : 'blag_subbotnik',\n",
        "                         6 : 'blag_nothing',\n",
        "                         7 : 'problem_coldwater',\n",
        "                         8 : 'problem_hotwater',\n",
        "                         9 : 'problem_water',\n",
        "                         10 : 'problem_electricity',\n",
        "                         11 : 'problem_lowheat',\n",
        "                         12 : 'problem_highheat',\n",
        "                         13 : 'problem_sewage',\n",
        "                         14 : 'problem_wiring',\n",
        "                         15 : 'problem_none',\n",
        "                         16 : 'problem_dirty',\n",
        "                         17 : 'problem_walls',\n",
        "                         18 : 'problem_dark',\n",
        "                         19 : 'problem_mice',\n",
        "                         20 : 'problem_insects',\n",
        "                         21 : 'problem_chute',\n",
        "                         22 : 'problem_elevator',\n",
        "                         23 : 'problem_drunk',\n",
        "                         24 : 'problem_homeless',\n",
        "                         25 : 'problem_migrants',\n",
        "                         26 : 'problem_nothing',\n",
        "                         27 : 'participate_money',\n",
        "                         28 : 'participate_meeting',\n",
        "                         29 : 'participate_initiative',\n",
        "                         30 : 'participate_request',\n",
        "                         31 : 'participate_track',\n",
        "                         32 : 'participate_nothing',\n",
        "                         33 : 'personal_low_betterment',\n",
        "                         34 : 'personal_low_municipalservices',\n",
        "                         35 : 'personal_dense_development',\n",
        "                         36 : 'personal_hard_to_find_job',\n",
        "                         37 : 'personal_expensive_living',\n",
        "                         38 : 'personal_localauthorities_corruption'}, inplace = True)\n",
        "\n",
        "blag['tik'] = blag['index'].map(MX_dict)"
      ],
      "execution_count": 613,
      "outputs": []
    },
    {
      "cell_type": "code",
      "metadata": {
        "id": "2LyJ8FKBZIvI"
      },
      "source": [
        "education = drop_rows(education)\n",
        "education.rename(columns = {0 : 'educ_extra_music',\n",
        "                         1 : 'educ_extra_art',\n",
        "                         2 : 'educ_extra_owndistrict',\n",
        "                         3 : 'educ_extra_citycenter',\n",
        "                         4 : 'educ_extra_none',\n",
        "                         5 : 'educ_extra_otherdistricts',\n",
        "                         6 : 'children_educextra_owndistrict',\n",
        "                         7 : 'children_educextra_center',\n",
        "                         8 : 'children_educextra_otherdistricts',\n",
        "                         9 : 'satisfied_educ_preschool',\n",
        "                         10 : 'satisfied_educ_school',\n",
        "                         11 : 'satisfied_educ_extra',\n",
        "                         12 : 'problem_education',\n",
        "                         13 : 'problem_children_education',\n",
        "                         14 : 'problem_education_level',\n",
        "                         15 : 'problem_low_qualification',\n",
        "                         16 : 'problem_children_injured',\n",
        "                         17 : 'problem_russian_language_educ',\n",
        "                         18 : 'problem_education_access',\n",
        "                         19 : 'problem_education_timetable',\n",
        "                         20 : 'problem_education_extrafees',\n",
        "                         21 : 'problem_education_corruption',\n",
        "                         22 : 'problem_education_furniture',\n",
        "                         23 : 'problem_education_equipment',\n",
        "                         24 : 'problem_education_noactivities',\n",
        "                         25 : 'problem_education_tariffs',\n",
        "                         26 : 'problem_education_none'}, inplace = True)\n",
        "\n",
        "education['tik'] = education['index'].map(MX_dict)"
      ],
      "execution_count": 614,
      "outputs": []
    },
    {
      "cell_type": "code",
      "metadata": {
        "id": "csuD1x8LfW9w"
      },
      "source": [
        "culture = drop_rows(culture)\n",
        "culture.rename(columns = {0 : 'spendtime_home',\n",
        "                         1 : 'spendtime_culture',\n",
        "                         2 : 'spendtime_entertainment',\n",
        "                         3 : 'spendtime_friends',\n",
        "                         4 : 'spendtime_sport',\n",
        "                         5 : 'spendtime_outside',\n",
        "                         6 : 'spendtime_selfeducation',\n",
        "                         7 : 'spendtime_work',\n",
        "                         8 : 'spendtime_doesntmatter',\n",
        "                         9 : 'spendtime_theatre',\n",
        "                         10 : 'spendtime_museum',\n",
        "                         11 : 'spendtime_showroom',\n",
        "                         12 : 'spendtime_cinema',\n",
        "                         13 : 'spendtime_library',\n",
        "                         14 : 'spendtime_culturehouse',\n",
        "                         15 : 'spendtime_park',\n",
        "                         16 : 'spendtime_circus',\n",
        "                         17 : 'spendtime_culture_doesntmatter',\n",
        "                         18 : 'fest_owndistrict',\n",
        "                         19 : 'fest_center',\n",
        "                         20 : 'fest_otherdistricts',\n",
        "                         21 : 'fest_programmematters',\n",
        "                         22 : 'fest_stayhome',\n",
        "                         23 : 'fest_countryside',\n",
        "                         24 : 'enough_infrastructure_festivals',\n",
        "                         25 : 'enough_infrastructure_walk',\n",
        "                         26 : 'enough_infrastructure_children',\n",
        "                         27 : 'enough_infrastructure_sport',\n",
        "                         28 : 'enough_infrastructure_ride',\n",
        "                         29 : 'enough_infrastructure_green',\n",
        "                         30 : 'enough_infrastructure_placestomeet',\n",
        "                         31 : 'notenough_infrastructure_culture',\n",
        "                         32 : 'notenough_infrastructure_cinema',\n",
        "                         33 : 'notenough_infrastructure_cafes',\n",
        "                         34 : 'notenough_infrastructure_nightclubs',\n",
        "                         35 : 'notenough_infrastructure_parks',\n",
        "                         36 : 'notenough_infrastructure_shoppingcenters',\n",
        "                         37 : 'notenough_infrastructure_shops',\n",
        "                         38 : 'notenough_infrastructure_publicinternet',\n",
        "                         39 : 'notenough_infrastructure_nothing'}, inplace = True)\n",
        "\n",
        "culture['tik'] = culture['index'].map(MX_dict)"
      ],
      "execution_count": 615,
      "outputs": []
    },
    {
      "cell_type": "markdown",
      "metadata": {
        "id": "4cJzXyQYWo0r"
      },
      "source": [
        "\n",
        "\n",
        "---\n",
        "\n"
      ]
    },
    {
      "cell_type": "markdown",
      "metadata": {
        "id": "srlbsznHUwLR"
      },
      "source": [
        "## 2019"
      ]
    },
    {
      "cell_type": "code",
      "metadata": {
        "id": "vuhcFYfQBMmG"
      },
      "source": [
        "data = pd.read_stata('/content/drive/MyDrive/Term-paper/moscow_2019_cands.dta')"
      ],
      "execution_count": 616,
      "outputs": []
    },
    {
      "cell_type": "code",
      "metadata": {
        "id": "twImfr_zD0ar"
      },
      "source": [
        "data['winner'] = data.iloc[:, 14:239].idxmax(1)\n",
        "data['winner_share'] = data.iloc[:, 14:239].max(1)/data['числодействительныхбюллетеней'] # доля победившего кандидата\n",
        "\n",
        "party_dict_1 = dict((''.join(k.lower().split(\" \")), v) for k, v in party_dict.items())\n",
        "UG_dict_1 = dict((''.join(k.lower().split(\" \")), v) for k, v in UG_dict.items())\n",
        "\n",
        "data['turnout_uik'] = (data['числонедействительныхбюллетеней'] + data['числодействительныхбюллетеней']) / data['voters'] # явка\n",
        "data['party_uik_winner'] = data['winner'].map(party_dict_1)\n",
        "data['UG_uik_winner'] = data['winner'].map(UG_dict_1)\n",
        "\n",
        "data = data.rename(columns={'v8': 'числобюллетенейвыданныхизбирателямпроголосовавшимдосрочно', \n",
        "                   'v9': 'числобюллетенейвыданныхизбирателямпроголосовавшимвнепомещениядляголосования'})"
      ],
      "execution_count": 617,
      "outputs": []
    },
    {
      "cell_type": "code",
      "metadata": {
        "id": "oE31cZb92p-Y"
      },
      "source": [
        "UG_candidates = dict(zip(dff[dff['UG'] == 1].okrug_election_comission, dff[dff['UG'] == 1].Candidate))\n",
        "UG_candidates = dict((k, (''.join(v.lower().split(\" \")))) for k, v in UG_candidates.items())\n",
        "data['UG_candidate'] = data['oik'].map(UG_candidates)"
      ],
      "execution_count": 618,
      "outputs": []
    },
    {
      "cell_type": "code",
      "metadata": {
        "id": "btKd1tV7gCyo"
      },
      "source": [
        "def get_UG_candidate_share(data):\n",
        "    data['UG_candidate_votes'] = ''\n",
        "    data['UG_candidate_share'] = ''\n",
        "\n",
        "    UG_candidate_names = []\n",
        "    for i in range(len(data)):\n",
        "        UG_candidate_names.append(data['UG_candidate'][i])\n",
        "\n",
        "    for i in range(len(data)):\n",
        "        name = UG_candidate_names[i]\n",
        "        data['UG_candidate_votes'][i] = data[name][i]\n",
        "        data['UG_candidate_share'][i] = data['UG_candidate_votes'][i]/data['числодействительныхбюллетеней'][i]\n",
        "\n",
        "    return data"
      ],
      "execution_count": 619,
      "outputs": []
    },
    {
      "cell_type": "code",
      "metadata": {
        "id": "0ZSLlc-D4iGt"
      },
      "source": [
        "data = get_UG_candidate_share(data)"
      ],
      "execution_count": 620,
      "outputs": []
    },
    {
      "cell_type": "markdown",
      "metadata": {
        "id": "y93S6-dwKazW"
      },
      "source": [
        "## Сумма по районам (tik)"
      ]
    },
    {
      "cell_type": "code",
      "metadata": {
        "id": "X7mgrHU_h8rs"
      },
      "source": [
        "dat = data.groupby('tik').agg('sum')\n",
        "dat['turnout_tik'] = (dat['числонедействительныхбюллетеней'] + dat['числодействительныхбюллетеней']) / dat['voters'] # явка\n",
        "dat = dat.reset_index()"
      ],
      "execution_count": 621,
      "outputs": []
    },
    {
      "cell_type": "code",
      "metadata": {
        "id": "xCZkuDnHttVC"
      },
      "source": [
        "X = pd.DataFrame(data.groupby('tik').size()).reset_index()\n",
        "X = X.rename(columns={0: 'tiks_total'})\n",
        "dat = dat.merge(X, left_on='tik', right_on='tik')"
      ],
      "execution_count": 622,
      "outputs": []
    },
    {
      "cell_type": "code",
      "metadata": {
        "id": "tiHUAEFxRvoc"
      },
      "source": [
        "dat['winner_tik'] = dat.iloc[:, 15:239].idxmax(1) # победитель в ТИКе\n",
        "dat['winner_share'] = dat.iloc[:, 15:239].max(1)/dat['числодействительныхбюллетеней'] # доля победившего кандидата\n",
        "dat['win_party_tik'] = dat['winner_tik'].map(party_dict_1) # партия выигравшего кандидата\n",
        "dat['win_UG_tik'] = dat['winner_tik'].map(UG_dict_1) # победило ли УГ в ТИКе"
      ],
      "execution_count": 623,
      "outputs": []
    },
    {
      "cell_type": "code",
      "metadata": {
        "id": "777HxVVLoYaU",
        "colab": {
          "base_uri": "https://localhost:8080/"
        },
        "outputId": "3bcf6c83-ed58-4f34-8752-14787e827f9a"
      },
      "source": [
        "dat['win_party_tik'].value_counts()"
      ],
      "execution_count": 624,
      "outputs": [
        {
          "output_type": "execute_result",
          "data": {
            "text/plain": [
              "United Russia      59\n",
              "KPRF               46\n",
              "Yabloko            11\n",
              "A Just Russia       8\n",
              "self-nomination     4\n",
              "Name: win_party_tik, dtype: int64"
            ]
          },
          "metadata": {
            "tags": []
          },
          "execution_count": 624
        }
      ]
    },
    {
      "cell_type": "markdown",
      "metadata": {
        "id": "D9j67O5gNtSx"
      },
      "source": [
        "## 2014"
      ]
    },
    {
      "cell_type": "code",
      "metadata": {
        "id": "cvamu-NjBfS1"
      },
      "source": [
        "dat2014 = pd.read_excel('/content/drive/MyDrive/Term-paper/MGD_2014.xlsx')\n",
        "dat2014 = dat2014.rename(columns=lambda x: ''.join(x.lower().split(\" \")))"
      ],
      "execution_count": 625,
      "outputs": []
    },
    {
      "cell_type": "code",
      "metadata": {
        "id": "9nlX8K7A-_xq"
      },
      "source": [
        "candidates_parties_2014 = pd.read_excel('/content/drive/MyDrive/Term-paper/2014candidates_parties.xlsx')\n",
        "candidates_parties_2014 = candidates_parties_2014.replace(['Единая Россия'],'United Russia')\n",
        "candidates_parties_2014 = candidates_parties_2014.replace(['КПРФ'],'KPRF')\n",
        "candidates_parties_2014 = candidates_parties_2014.replace(['ЛДПР'],'LDPR')\n",
        "candidates_parties_2014 = candidates_parties_2014.replace(['Гражданская платформа'],'Civic Platform')\n",
        "candidates_parties_2014 = candidates_parties_2014.replace(['Гражданская Платформа'],'Civic Platform')\n",
        "candidates_parties_2014 = candidates_parties_2014.replace(['Гражданская сила'],'Civilian Power')\n",
        "candidates_parties_2014 = candidates_parties_2014.replace(['Яблоко'],'Yabloko')\n",
        "candidates_parties_2014 = candidates_parties_2014.replace(['Родина'],'Rodina')\n",
        "candidates_parties_2014 = candidates_parties_2014.replace(['Зелёные'],'Green party')\n",
        "candidates_parties_2014 = candidates_parties_2014.replace(['Справедливая Россия'],'A Just Russia')\n",
        "candidates_parties_2014 = candidates_parties_2014.replace(['самовыдвижение'],'self-nomination')\n",
        "candidates_parties_2014 = candidates_parties_2014.replace(['Социал-демократическая партия'],'Social democratic party')"
      ],
      "execution_count": 626,
      "outputs": []
    },
    {
      "cell_type": "code",
      "metadata": {
        "id": "oQRl0kVz_AFf"
      },
      "source": [
        "party_dict_2014 = dict(zip(candidates_parties_2014.Candidate, candidates_parties_2014.Party))\n",
        "party_dict_2014 = dict((''.join(k.lower().split(\" \")), v) for k, v in party_dict_2014.items())"
      ],
      "execution_count": 627,
      "outputs": []
    },
    {
      "cell_type": "code",
      "metadata": {
        "id": "HuZk0AVbk31R"
      },
      "source": [
        "dat2014['winner'] = dat2014.iloc[:, 15:273].idxmax(1)\n",
        "\n",
        "dat2014['winner_share'] = dat2014.iloc[:, 15:273].max(1)/dat2014['числодействительныхбюллетеней'] # доля победившего кандидата\n",
        "dat2014['turnout_uik'] = (dat2014['числонедействительныхбюллетеней'] + dat2014['числодействительныхбюллетеней']) / dat2014['числоизбирателейвнесенныхвсписок'] # явка\n",
        "dat2014['party_uik_winner'] = dat2014['winner'].map(party_dict_2014)\n",
        "\n",
        "dat2014 = dat2014.replace(['125 Орехово-Борисово Южное'], '125 район Орехово-Борисово Южное')\n",
        "dat2014 = dat2014.replace(['6 район Ивановское'], '5 район Ивановское')\n",
        "dat2014 = dat2014.replace(['82 Красноселький район'], '82 Красносельский район')\n",
        "data = data.replace(['134 Сосенская'], '132 Новомосковская')"
      ],
      "execution_count": 628,
      "outputs": []
    },
    {
      "cell_type": "code",
      "metadata": {
        "id": "vAwE_luRO8-P"
      },
      "source": [
        "subset_2nd = dat2014.drop(dat2014.iloc[:, 15:273].idxmax(1), axis=1)\n",
        "dat2014['winner_2nd_2014'] = subset_2nd.iloc[:, 15:159].idxmax(1)\n",
        "dat2014['winner_2nd_2014_share'] = subset_2nd.iloc[:, 15:159].max(1)/dat2014['числодействительныхбюллетеней'] # доля победившего кандидата\n",
        "dat2014['party_uik_winner_2nd_2014'] = dat2014['winner_2nd_2014'].map(party_dict_2014)"
      ],
      "execution_count": 629,
      "outputs": []
    },
    {
      "cell_type": "markdown",
      "metadata": {
        "id": "Wg4URcBOVPyv"
      },
      "source": [
        "## Merge data"
      ]
    },
    {
      "cell_type": "code",
      "metadata": {
        "colab": {
          "base_uri": "https://localhost:8080/"
        },
        "id": "HiABnnaeL3UC",
        "outputId": "fc8458eb-3419-4251-fb0e-bc4ca793831e"
      },
      "source": [
        "data.columns"
      ],
      "execution_count": 630,
      "outputs": [
        {
          "output_type": "execute_result",
          "data": {
            "text/plain": [
              "Index(['reg', 'tik', 'voters', 'числобюллетенейполученныхучастко',\n",
              "       'числобюллетенейвыданныхизбирател',\n",
              "       'числобюллетенейвыданныхизбирателямпроголосовавшимдосрочно',\n",
              "       'числобюллетенейвыданныхизбирателямпроголосовавшимвнепомещениядляголосования',\n",
              "       'числопогашенныхбюллетеней', 'ballot_box1', 'ballot_box2',\n",
              "       ...\n",
              "       'vote_kprf', 'uik', 'winner', 'winner_share', 'turnout_uik',\n",
              "       'party_uik_winner', 'UG_uik_winner', 'UG_candidate',\n",
              "       'UG_candidate_votes', 'UG_candidate_share'],\n",
              "      dtype='object', length=256)"
            ]
          },
          "metadata": {
            "tags": []
          },
          "execution_count": 630
        }
      ]
    },
    {
      "cell_type": "code",
      "metadata": {
        "id": "v9PWZtZtO9MO"
      },
      "source": [
        "d2014 = dat2014[['oik', 'tik', 'uik', 'winner', 'winner_share', 'party_uik_winner', \n",
        "                 'turnout_uik', 'party_uik_winner_2nd_2014', 'winner_2nd_2014', 'winner_2nd_2014_share']]\n",
        "d2014['year'] = 2014\n",
        "d2019 = data[['oik', 'tik', 'uik', 'winner', 'winner_share', 'party_uik_winner', 'turnout_uik', 'UG_uik_winner', 'UG_candidate',\n",
        "       'UG_candidate_votes', 'UG_candidate_share']]\n",
        "d2019['year'] = 2019"
      ],
      "execution_count": 631,
      "outputs": []
    },
    {
      "cell_type": "code",
      "metadata": {
        "id": "vGZYSyyPWXWU"
      },
      "source": [
        "df_inner = pd.merge(d2014, d2019, how='inner', left_on='uik', right_on='uik', suffixes=('_2014', '_2019'))\n",
        "df_inner['URussia_uik_2014'] = 0\n",
        "df_inner['URussia_uik_2014'][df_inner['party_uik_winner_2014'] == 'United Russia'] = 1\n",
        "df_inner['URussia_uik_2019'] = 0\n",
        "df_inner['URussia_uik_2019'][df_inner['party_uik_winner_2019'] == 'United Russia'] = 1"
      ],
      "execution_count": 632,
      "outputs": []
    },
    {
      "cell_type": "markdown",
      "metadata": {
        "id": "Fpq80q7ExvJh"
      },
      "source": [
        "assert-ы"
      ]
    },
    {
      "cell_type": "code",
      "metadata": {
        "id": "OnI7yxNRbz1X"
      },
      "source": [
        "for i in range(len(df_inner)):\n",
        "    res = df_inner['tik_2014'][i] == df_inner['tik_2019'][i]\n",
        "    if res == False:\n",
        "        print(df_inner['tik_2014'][i], df_inner['tik_2019'][i])"
      ],
      "execution_count": 633,
      "outputs": []
    },
    {
      "cell_type": "code",
      "metadata": {
        "id": "G-tZtF9ihvoV"
      },
      "source": [
        "set1 = set(dat2014['tik'].unique())\n",
        "\n",
        "for i in df_inner['tik_2019'].unique():\n",
        "    if i not in set1:\n",
        "        print(i)"
      ],
      "execution_count": 634,
      "outputs": []
    },
    {
      "cell_type": "code",
      "metadata": {
        "id": "Iga9aBU-l1qz"
      },
      "source": [
        "crime2019 = pd.read_excel('/content/drive/MyDrive/Term-paper/crime.xlsx')"
      ],
      "execution_count": 635,
      "outputs": []
    },
    {
      "cell_type": "code",
      "metadata": {
        "id": "dzMOdl3uAbKW"
      },
      "source": [
        "df_inner['tik'] = df_inner['tik_2014']\n",
        "df_inner['oik'] = df_inner['oik_2014']\n",
        "df_inner = df_inner.drop(['tik_2014', 'tik_2019', 'oik_2014', 'oik_2019'], axis=1)"
      ],
      "execution_count": 636,
      "outputs": []
    },
    {
      "cell_type": "code",
      "metadata": {
        "id": "huWjNETI4oZc"
      },
      "source": [
        "data_full = df_inner.merge(crime2019, how='left', left_on='tik', right_on='tik')\n",
        "data_full = data_full.merge(safety, how='left', left_on='tik', right_on='tik').drop('index', axis=1)\n",
        "data_full = data_full.merge(blag, how='left', left_on='tik', right_on='tik').drop('index', axis=1)\n",
        "data_full = data_full.merge(culture, how='left', left_on='tik', right_on='tik').drop('index', axis=1)\n",
        "data_full = data_full.merge(education, how='left', left_on='tik', right_on='tik')"
      ],
      "execution_count": 637,
      "outputs": []
    },
    {
      "cell_type": "code",
      "metadata": {
        "id": "ql5j8Naht6BY"
      },
      "source": [
        "AO_dict = {'32 район Силино':'Зеленоградский АО',\n",
        " '33 район Крюково':'Зеленоградский АО',\n",
        " '34 район Старое Крюково':'Зеленоградский АО',\n",
        " '35 район Матушкино':'Зеленоградский АО',\n",
        " '40 район Савелки':'Зеленоградский АО',\n",
        "\n",
        " '48 Молжаниновский район':'Северный АО',\n",
        " '71 район Куркино':'Северо-Западный АО',\n",
        " '74 район Северное Тушино':'Северо-Западный АО',\n",
        " '78 район Южное Тушино':'Северо-Западный АО',\n",
        " '72 район Митино':'Северо-Западный АО',\n",
        " '73 район Покровское-Стрешнево':'Северо-Западный АО',\n",
        " '77 район Щукино':'Северо-Западный АО',\n",
        " '19 район Крылатское':'Западный АО',\n",
        " '20 район Кунцево':'Западный АО',\n",
        " '30 район Филевский парк':'Западный АО',\n",
        " '76 район Хорошево-Мневники':'Северо-Западный АО',\n",
        " '75 район Строгино':'Северо-Западный АО',\n",
        "\n",
        " '43 Головинский район':'Северный АО',\n",
        " '45 район Западное Дегунино':'Северный АО',\n",
        " '47 Левобережный район':'Северный АО',\n",
        " '52 район Ховрино':'Северный АО',\n",
        " '39 Бескудниковский район':'Северный АО',\n",
        " '42 район Восточное Дегунино':'Северный АО',\n",
        " '44 Дмитровский район':'Северный АО',\n",
        " '37 район Аэропорт':'Северный АО',\n",
        " '41 Войковский район':'Северный АО',\n",
        " '46 район Коптево':'Северный АО',\n",
        " '50 район Сокол':'Северный АО',\n",
        " '38 район Беговой':'Северный АО',\n",
        " '49 Савеловский район':'Северный АО',\n",
        " '51 Тимирязевский район':'Северный АО',\n",
        " '53 Хорошевский район':'Северный АО',\n",
        "\n",
        " '57 район Бибирево':'Северо-Восточный АО',\n",
        " '59 район Лианозово':'Северо-Восточный АО',\n",
        " '68 район Северный':'Северо-Восточный АО',\n",
        " '55 Алтуфьевский район':'Северо-Восточный АО',\n",
        " '61 район Марфино':'Северо-Восточный АО',\n",
        " '64 район Отрадное':'Северо-Восточный АО',\n",
        " '66 район Свиблово':'Северо-Восточный АО',\n",
        " '67 район Северное Медведково':'Северо-Восточный АО',\n",
        " '69 район Южное Медведково':'Северо-Восточный АО',\n",
        " '56 Бабушкинский район':'Северо-Восточный АО',\n",
        " '60 Лосиноостровский район':'Северо-Восточный АО',\n",
        " '70 Ярославский район':'Северо-Восточный АО',\n",
        " '54 Алексеевский район':'Северо-Восточный АО',\n",
        " '58 Бутырский район':'Северо-Восточный АО',\n",
        " '62 район Марьина Роща':'Северо-Восточный АО',\n",
        " '63 Останкинский район':'Северо-Восточный АО',\n",
        " '65 район Ростокино':'Северо-Восточный АО',\n",
        "\n",
        " '4 район Гольяново':'Восточный АО',\n",
        " '8 район Метрогородок':'Восточный АО',\n",
        " '14 район Северное Измайлово':'Восточный АО',\n",
        " '1 район Богородское':'Восточный АО',\n",
        " '13 район Преображенское':'Восточный АО',\n",
        " '15 район Соколиная гора':'Восточный АО',\n",
        " '5 район Ивановское':'Восточный АО',\n",
        " '11 район Перово':'Восточный АО',\n",
        " '3 район Восточное Измайлово':'Восточный АО',\n",
        " '6 район Измайлово':'Восточный АО',\n",
        " '12 район Восточный':'Восточный АО',\n",
        " '2 район Вешняки':'Восточный АО',\n",
        " '10 район Новогиреево':'Восточный АО',\n",
        " '7 район Косино-Ухтомский':'Восточный АО',\n",
        " '9 район Новокосино':'Восточный АО',\n",
        "\n",
        " '89 район Выхино-Жулебино':'Юго-Восточный АО',\n",
        " '95 район Некрасовка':'Юго-Восточный АО',\n",
        " '98 Рязанский район':'Юго-Восточный АО',\n",
        " '90 район Капотня':'Юго-Восточный АО',\n",
        " '93 район Люблино':'Юго-Восточный АО',\n",
        " '94 район Марьино':'Юго-Восточный АО',\n",
        " '91 район Кузьминки':'Юго-Восточный АО',\n",
        " '92 район Лефортово':'Юго-Восточный АО',\n",
        " '96 Нижегородский район':'Юго-Восточный АО',\n",
        " '99 район Текстильщики':'Юго-Восточный АО',\n",
        " '100 Южнопортовый район':'Юго-Восточный АО',\n",
        " '97 район Печатники':'Юго-Восточный АО',\n",
        "\n",
        " '115 район Братеево':'Южный АО',\n",
        " '119 район Зябликово':'Южный АО',\n",
        " '125 район Орехово-Борисово Южное':'Южный АО',\n",
        " '124 район Орехово-Борисово Северное':'Южный АО',\n",
        " '120 район Москворечье-Сабурово':'Южный АО',\n",
        " '122 район Нагатинский затон':'Южный АО',\n",
        " '128 район Царицыно':'Южный АО',\n",
        " '113 район Бирюлево Восточное':'Южный АО',\n",
        " '114 район Бирюлево Западное':'Южный АО',\n",
        " '130 район Чертаново Центральное':'Южный АО',\n",
        " '131 район Чертаново Южное':'Южный АО',\n",
        " '103 район Зюзино':'Юго-Западный АО',\n",
        " '123 Нагорный район':'Южный АО',\n",
        " '129 район Чертаново Северное':'Южный АО',\n",
        " '116 Даниловский район':'Южный АО',\n",
        " '117 Донской район':'Южный АО',\n",
        " '121 район Нагатино-Садовники':'Южный АО',\n",
        "\n",
        " '108 район Северное Бутово':'Юго-Западный АО',\n",
        " '111 район Южное Бутово':'Юго-Западный АО',\n",
        " '112 район Ясенево':'Юго-Западный АО',\n",
        " '104 район Коньково':'Юго-Западный АО',\n",
        " '109 район Теплый Стан':'Юго-Западный АО',\n",
        " '105 район Котловка':'Юго-Западный АО',\n",
        " '107 Обручевский район':'Юго-Западный АО',\n",
        " '110 район Черемушки':'Юго-Западный АО',\n",
        " '26 район Проспект Вернадского':'Западный АО',\n",
        " '101 Академический район':'Юго-Западный АО',\n",
        " '102 Гагаринский район':'Юго-Западный АО',\n",
        " '106 Ломоносовский район':'Юго-Западный АО',\n",
        "\n",
        " '29 район Тропарево-Никулино':'Западный АО',\n",
        "\n",
        " '132 Новомосковская':'Новомосковский АО',\n",
        " '133 Троицкий административный округ':'Троицкий АО',\n",
        "\n",
        " '17 район Внуково':'Западный АО',\n",
        " '24 район Ново-Переделкино':'Западный АО',\n",
        " '25 район Очаково-Матвеевское':'Западный АО',\n",
        " '28 район Солнцево':'Западный АО',\n",
        " '22 Можайский район':'Западный АО',\n",
        " '31 район Фили-Давыдково':'Западный АО',\n",
        " '18 район Дорогомилово':'Западный АО',\n",
        " '27 район Раменки':'Западный АО',\n",
        "\n",
        " '79 район Арбат':'Центральный АО',\n",
        " '84 Пресненский район':'Центральный АО',\n",
        " '87 район Хамовники':'Центральный АО',\n",
        " '81 район Замоскворечье':'Центральный АО',\n",
        " '85 Таганский район':'Центральный АО',\n",
        " '86 Тверской район':'Центральный АО',\n",
        " '88 район Якиманка':'Центральный АО',\n",
        " '16 район Сокольники':'Восточный АО',\n",
        " '80 Басманный район':'Центральный АО',\n",
        " '82 Красносельский район':'Центральный АО',\n",
        " '83 Мещанский район':'Центральный АО'}"
      ],
      "execution_count": 638,
      "outputs": []
    },
    {
      "cell_type": "code",
      "metadata": {
        "id": "Jr3oJRBjzWMi"
      },
      "source": [
        "data_full['AO'] = data_full['tik'].map(AO_dict)"
      ],
      "execution_count": 639,
      "outputs": []
    },
    {
      "cell_type": "code",
      "metadata": {
        "id": "fgDk-XRvzWJg"
      },
      "source": [
        "data_full.to_csv('data_termpaper.csv', sep=';')"
      ],
      "execution_count": 640,
      "outputs": []
    },
    {
      "cell_type": "markdown",
      "metadata": {
        "id": "C6rI8vv1N0xH"
      },
      "source": [
        "Можно заметить, что в тех уиках, где доля голосов за кандидата от Умного голосования низкая, гораздо больше вбросов (явка больше 50%)."
      ]
    },
    {
      "cell_type": "code",
      "metadata": {
        "id": "MvGZluA5WYDl",
        "colab": {
          "base_uri": "https://localhost:8080/",
          "height": 369
        },
        "outputId": "e93aaa8a-ace7-4c67-d861-e3e1c89b958a"
      },
      "source": [
        "import seaborn as sns\n",
        "sns.displot(df_inner, x=\"UG_candidate_share\", y='turnout_uik_2019', hue=\"party_uik_winner_2019\" ); # , kind=\"kde\""
      ],
      "execution_count": 641,
      "outputs": [
        {
          "output_type": "display_data",
          "data": {
            "image/png": "[encoded data removed]",
            "text/plain": [
              "<Figure size 506.25x360 with 1 Axes>"
            ]
          },
          "metadata": {
            "tags": [],
            "needs_background": "light"
          }
        }
      ]
    }
  ]
}